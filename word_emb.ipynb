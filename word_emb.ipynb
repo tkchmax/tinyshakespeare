{
 "cells": [
  {
   "cell_type": "code",
   "execution_count": 82,
   "metadata": {},
   "outputs": [],
   "source": [
    "import torch\n",
    "import torch.nn as nn\n",
    "import re"
   ]
  },
  {
   "cell_type": "code",
   "execution_count": 83,
   "metadata": {},
   "outputs": [],
   "source": [
    "batch_size = 128 \n",
    "block_size = 256 \n",
    "max_iters = 5000\n",
    "eval_interval = 500\n",
    "learning_rate = 3e-4\n",
    "device = 'cuda' if torch.cuda.is_available() else 'cpu'\n",
    "eval_iters = 200\n",
    "n_embd = 384\n",
    "n_head = 4\n",
    "n_layer = 2\n",
    "dropout_rate = 0.4"
   ]
  },
  {
   "cell_type": "code",
   "execution_count": 84,
   "metadata": {},
   "outputs": [
    {
     "name": "stdout",
     "output_type": "stream",
     "text": [
      "[1538, 3493, 6729, 2]\n",
      "['I', 'am', 'false', '!']\n"
     ]
    }
   ],
   "source": [
    "with open('tinyshakespeare.txt', 'r', encoding='utf-8') as f:\n",
    "    text = f.read() \n",
    "\n",
    "# Add space around specified punctuation symbols\n",
    "processed_text = re.sub(r'([,.:!?$&\\-;(){}\\[\\]])', r' \\1 ', text)\n",
    "\n",
    "# Replace multiple spaces with a single space, but don't touch newlines\n",
    "processed_text = re.sub(r'[^\\S\\n]+', ' ', processed_text).strip()\n",
    "\n",
    "# Ensure no spaces before or after newlines in one step\n",
    "processed_text = re.sub(r'\\s*\\n\\s*', '\\n', processed_text)\n",
    "\n",
    "# vocab = sorted(list(set(processed_text.split(' '))))\n",
    "vocab = sorted(list(set(re.split(r'(\\s+)', processed_text))))\n",
    "\n",
    "wtoi = {w:i for i,w in enumerate(vocab)}\n",
    "itow = {i:w for i,w in enumerate(vocab)}\n",
    "\n",
    "encode = lambda words: [wtoi[word] for word in words]\n",
    "decode = lambda codes: [itow[code] for code in codes]\n",
    "\n",
    "print(encode('I am false !'.split(' ')))\n",
    "print(decode(encode('I am false !'.split(' '))))"
   ]
  },
  {
   "cell_type": "code",
   "execution_count": 85,
   "metadata": {},
   "outputs": [
    {
     "name": "stdout",
     "output_type": "stream",
     "text": [
      "n vocab 14566\n"
     ]
    }
   ],
   "source": [
    "vocab_size = len(vocab)\n",
    "print('n vocab', vocab_size)"
   ]
  },
  {
   "cell_type": "code",
   "execution_count": 86,
   "metadata": {},
   "outputs": [
    {
     "name": "stdout",
     "output_type": "stream",
     "text": [
      "First Citizen :\n",
      "Before we proceed any further , hear me speak .\n",
      "All :\n",
      "Speak , speak .\n",
      "First Citizen :\n",
      "You are all resolved rather to die than to famish ?\n",
      "All :\n",
      "Resolved . resolved .\n",
      "First Citizen :\n",
      "First , you know Caius Marcius is chief enemy to the people .\n",
      "All :\n",
      "We know't , we know't .\n",
      "First Citizen :\n",
      "Let us kill him , and we'll have corn at our own price .\n",
      "Is't a verdict ?\n",
      "All :\n",
      "No more talking on't ; let it be done : away , away !\n",
      "Second Citizen :\n",
      "One word , good citizens .\n",
      "First Citizen :\n",
      "We are accounted poor citizens , the patricians good .\n",
      "What authority surfeits on would relieve us : if they\n",
      "would yield us but the superfluity , while it were\n",
      "wholesome , we might guess they relieved us humanely ;\n",
      "but they think we are too dear : the leanness that\n",
      "afflicts us , the object of our misery , is as an\n",
      "inventory to particularise their abundance ; our\n",
      "sufferance is a gain to them Let us revenge this with\n",
      "our pikes , ere we become rakes : for the gods know I\n",
      "speak this in hunger for bread , not in thirst for revenge .\n",
      "Second Citizen :\n",
      "Would you proceed especially against Caius Marcius ?\n",
      "All :\n",
      "Against him first : he's a very dog to the commonalty .\n",
      "Second Citizen :\n",
      "Consider you what services he has done for his country ?\n",
      "First Citizen :\n",
      "Very well ; and could be content to give him good\n",
      "report fort , but that he pays himself with being proud .\n",
      "Second Citizen :\n",
      "Nay , but speak not maliciously .\n",
      "First Citizen :\n",
      "I say unto you , what he hath done famously , he did\n",
      "it to that end : though soft - conscienced men can be\n",
      "content to say it was for his country he did it to\n",
      "please his mother and to be partly proud ; which he\n",
      "is , even till the altitude of his virtue .\n",
      "Second Citizen :\n",
      "What he cannot help in his nature , you account a\n",
      "vice in him . You must in no way say he is covetous .\n",
      "First Citizen :\n",
      "If I must not , I need not be barren of accusations ;\n",
      "he hath faults , with surplus , to tire in repetition .\n",
      "What shouts are these ? The other side o' the city\n",
      "is risen : why st\n"
     ]
    }
   ],
   "source": [
    "print(processed_text[:2000])"
   ]
  },
  {
   "cell_type": "code",
   "execution_count": 87,
   "metadata": {},
   "outputs": [
    {
     "name": "stdout",
     "output_type": "stream",
     "text": [
      "torch.Size([504597])\n"
     ]
    }
   ],
   "source": [
    "data = torch.tensor(encode(re.split(r'(\\s+)', processed_text)))\n",
    "print(data.shape)\n",
    "\n",
    "n = int(0.9 * len(data))\n",
    "train_data = data[:n]\n",
    "val_data = data[n:]"
   ]
  },
  {
   "cell_type": "code",
   "execution_count": 88,
   "metadata": {},
   "outputs": [
    {
     "name": "stdout",
     "output_type": "stream",
     "text": [
      "torch.Size([256])\n",
      "['mayst'] --> [' ']\n",
      "['mayst', ' '] --> ['thou']\n",
      "['mayst', ' ', 'thou'] --> [' ']\n",
      "['mayst', ' ', 'thou', ' '] --> ['live']\n",
      "['mayst', ' ', 'thou', ' ', 'live'] --> [' ']\n",
      "['mayst', ' ', 'thou', ' ', 'live', ' '] --> ['in']\n",
      "['mayst', ' ', 'thou', ' ', 'live', ' ', 'in'] --> [' ']\n",
      "['mayst', ' ', 'thou', ' ', 'live', ' ', 'in', ' '] --> [\"Richard's\"]\n",
      "['mayst', ' ', 'thou', ' ', 'live', ' ', 'in', ' ', \"Richard's\"] --> [' ']\n",
      "['mayst', ' ', 'thou', ' ', 'live', ' ', 'in', ' ', \"Richard's\", ' '] --> ['seat']\n"
     ]
    }
   ],
   "source": [
    "def get_batch(split):\n",
    "    data = train_data if split == 'train' else val_data\n",
    "    start_i = torch.randint(len(data) - block_size, (32, ))\n",
    "    x = torch.stack([data[i:i+block_size] for i in start_i])\n",
    "    y = torch.stack([data[i+1:i+1+block_size] for i in start_i])\n",
    "    x, y = x.to(device), y.to(device)\n",
    "\n",
    "    return x,y\n",
    "\n",
    "xb, yb = get_batch('train')\n",
    "print(xb[0].shape)\n",
    "\n",
    "b = 0 \n",
    "# for t in range(block_size):\n",
    "for t in range(10):\n",
    "    print(decode(xb[b, :t+1].tolist()), '-->', decode(yb[b, t].unsqueeze(0).tolist()))"
   ]
  },
  {
   "cell_type": "code",
   "execution_count": 89,
   "metadata": {},
   "outputs": [],
   "source": [
    "from torch.nn import functional as F\n",
    "class Head(nn.Module):\n",
    "    def __init__(self, head_size):\n",
    "        super().__init__ ()\n",
    "        self.key = nn.Linear(n_embd, head_size, bias=False) \n",
    "        self.query = nn.Linear(n_embd, head_size, bias=False)\n",
    "        self.value = nn.Linear(n_embd, head_size, bias=False)\n",
    "        self.register_buffer('tril', torch.tril(torch.ones((block_size, block_size))))\n",
    "\n",
    "        self.dropout = nn.Dropout(dropout_rate)\n",
    "\n",
    "    def forward(self, x):\n",
    "        B, T, C = x.shape # BATCH_SIZE, BLOCK_SIZE, EMBD_SIZE\n",
    "        k = self.key(x)\n",
    "        q = self.query(x)\n",
    "        \n",
    "        attn = q @ k.transpose(-2, -1) * C**-0.5 # (B,T,C) @ (B, C, T) --> (B, T, T)\n",
    "        attn = attn.masked_fill(self.tril[:T, :T] == 0, float('-inf')) \n",
    "        attn = F.softmax(attn, dim=-1)\n",
    "        attn = self.dropout(attn)\n",
    "\n",
    "        v = self.value(x)\n",
    "        out = attn @ v # (B,T,T) @ (B,T,C) --> (B,T,C)\n",
    "        return out\n",
    "\n",
    "class MultiHeadAttention(nn.Module):\n",
    "    def __init__(self, num_heads, head_size):\n",
    "        super().__init__()\n",
    "        self.heads = nn.ModuleList([Head(head_size) for _ in range(num_heads)])\n",
    "        self.proj = nn.Linear(n_embd, n_embd)\n",
    "        self.dropout = nn.Dropout(dropout_rate)\n",
    "\n",
    "    def forward(self, x):\n",
    "        out = torch.cat([h(x) for h in self.heads], dim=-1)\n",
    "        out = self.proj(out)\n",
    "        out = self.dropout(out)\n",
    "        return out\n",
    "    \n",
    "class FeedForward(nn.Module):\n",
    "    def __init__(self, n_embd):\n",
    "        super().__init__()\n",
    "        self.net = nn.Sequential(\n",
    "            nn.Linear(n_embd, 4*n_embd),\n",
    "            nn.ReLU(),\n",
    "            nn.Linear(4*n_embd, n_embd),\n",
    "            nn.Dropout(dropout_rate),\n",
    "        )\n",
    "    def forward(self, x):\n",
    "        return self.net(x)\n",
    "    \n",
    "class Block(nn.Module):\n",
    "    def __init__(self, n_embd, n_heads):\n",
    "        super().__init__()\n",
    "        head_size = n_embd//n_heads\n",
    "        self.sa = MultiHeadAttention(num_heads=n_heads, head_size=head_size)\n",
    "        self.ffwd = FeedForward(n_embd)\n",
    "        self.ln1 = nn.LayerNorm(n_embd)\n",
    "        self.ln2 = nn.LayerNorm(n_embd)\n",
    "    \n",
    "    def forward(self, x):\n",
    "        x = x + self.sa(self.ln1(x))\n",
    "        x = x + self.ffwd(self.ln2(x))\n",
    "        return x\n",
    "    \n",
    "class Model(nn.Module):\n",
    "    def __init__(self, vocab_size):\n",
    "        super().__init__()\n",
    "        self.token_embd_table = nn.Embedding(vocab_size, n_embd)\n",
    "        self.position_embedding_table = nn.Embedding(block_size, n_embd)\n",
    "        self.blocks = nn.Sequential(*[Block(n_embd=n_embd, n_heads=n_head) for _ in range(n_layer)])\n",
    "        self.ln = nn.LayerNorm(n_embd)\n",
    "        self.lm_head = nn.Linear(n_embd, vocab_size)\n",
    "\n",
    "\n",
    "    def forward(self, tokens, targets = None):\n",
    "        B,T = tokens.shape\n",
    "\n",
    "        tok_emb = self.token_embd_table(tokens) # (BATCH_SIZE,VOCAB_SIZE,EMBD_SIZE) B,T,C\n",
    "        pos_emb = self.position_embedding_table(torch.arange(T, device=device))\n",
    "        x = tok_emb + pos_emb\n",
    "        x = self.blocks(x)\n",
    "        x = self.ln(x)\n",
    "        logits = self.lm_head(x) # (BATCH_SIZE, EMBD_SIZE, VOCAB_SIZE)\n",
    "\n",
    "        if targets == None:\n",
    "            loss = None\n",
    "        else:\n",
    "            B,T,C = logits.shape\n",
    "            logits = logits.view(B*T, C)\n",
    "            targets = targets.view(B*T)\n",
    "            loss = F.cross_entropy(logits, targets)\n",
    "        return logits, loss\n",
    "    \n",
    "    def generate(self, tokens, max_len):\n",
    "        for _ in range(max_len):\n",
    "            # logits, loss = self(tokens)\n",
    "            logits, loss = self(tokens[:, -block_size:])\n",
    "            logits = logits[:, -1, :] # (BATCH_SIZE, EMBD_SIZE)\n",
    "            probs = F.softmax(logits, dim=-1)\n",
    "            token_next = torch.multinomial( probs, num_samples=1)\n",
    "            tokens = torch.cat((tokens, token_next), dim=1) # (BATCH_SIZE, TOKEN_SIZE+1)\n",
    "\n",
    "        return tokens\n"
   ]
  },
  {
   "cell_type": "code",
   "execution_count": 90,
   "metadata": {},
   "outputs": [
    {
     "name": "stdout",
     "output_type": "stream",
     "text": [
      "cuda\n"
     ]
    }
   ],
   "source": [
    "print(device)\n",
    "m = Model(vocab_size=vocab_size)\n",
    "m = m.to(device)"
   ]
  },
  {
   "cell_type": "code",
   "execution_count": 91,
   "metadata": {},
   "outputs": [
    {
     "name": "stdout",
     "output_type": "stream",
     "text": [
      "\n",
      "apeharbourdevicescaeteraconsciencemeedslenityheard'stmothsactorsBelgialitteredwantingCitizenstitlesdistinguishheirspowerfulDestroy'dUnlawfullyTearabsencepernicioustiger'skinsman'sbrinishconcupisciblefornicatresslordstransgressionhairymournersjoinriddlingbonfiresbentshunsCogmakeRebell'dparcelssociablematterRICHARDcupbearerwishearthlyGraybeardenjoyingMortalembracedinfantdemesnesBearaptreekBUCKINGHAMsteal'GrownElbowpeasantpuissancesuck'dstpilotoftHoverthriveenroll'd cockleLondonCalibansSirrahusurp'dLucentiomessagegrantCountingsecretacclamationsyoung'stlamentedContenttyrannymissinglyhouseholds'Hope'Gainstsmileshownbawcockmouthshelveskillseitherroaredshakenlearnsexceptionswinning\n"
     ]
    }
   ],
   "source": [
    "decoded = decode(m.generate(tokens=torch.zeros((1,1), dtype=torch.long, device=device), max_len=100)[0].tolist())\n",
    "print(''.join(decoded))"
   ]
  },
  {
   "cell_type": "code",
   "execution_count": 92,
   "metadata": {},
   "outputs": [],
   "source": [
    "@torch.no_grad()\n",
    "def estimate_loss():\n",
    "    out = {}\n",
    "    m.eval()\n",
    "    for split in ['train', 'val']:\n",
    "        losses = torch.zeros(eval_iters)\n",
    "        for k in range(eval_iters):\n",
    "            X, Y = get_batch(split)\n",
    "            logits, loss = m(X, Y)\n",
    "            losses[k] = loss.item()\n",
    "        out[split] = losses.mean()\n",
    "    m.train()\n",
    "    return out"
   ]
  },
  {
   "cell_type": "code",
   "execution_count": 93,
   "metadata": {},
   "outputs": [
    {
     "name": "stdout",
     "output_type": "stream",
     "text": [
      "step 500: train loss 3.2204, val loss 3.3573\n",
      "step 1000: train loss 3.1102, val loss 3.3041\n",
      "step 1500: train loss 2.8351, val loss 3.1218\n",
      "step 2000: train loss 2.6151, val loss 3.0434\n",
      "step 2500: train loss 2.4663, val loss 3.0318\n",
      "step 3000: train loss 2.3501, val loss 3.0478\n",
      "step 3500: train loss 2.2379, val loss 3.0760\n",
      "step 4000: train loss 2.1231, val loss 3.1219\n",
      "step 4500: train loss 2.0345, val loss 3.1737\n",
      "step 5000: train loss 1.9471, val loss 3.2376\n"
     ]
    }
   ],
   "source": [
    "optimizer = torch.optim.AdamW(m.parameters(), lr=learning_rate)\n",
    "for iter in range(max_iters):\n",
    "    # print(iter)\n",
    "    if (iter+1)%eval_interval == 0:\n",
    "        losses = estimate_loss()\n",
    "        print(f\"step {iter+1}: train loss {losses['train']:.4f}, val loss {losses['val']:.4f}\")\n",
    "\n",
    "    xb, yb = get_batch('train')\n",
    "\n",
    "    logits, loss = m(xb,yb)\n",
    "    optimizer.zero_grad(set_to_none=True)\n",
    "    loss.backward()\n",
    "    optimizer.step()"
   ]
  },
  {
   "cell_type": "code",
   "execution_count": null,
   "metadata": {},
   "outputs": [
    {
     "name": "stdout",
     "output_type": "stream",
     "text": [
      "I was killed by the farthest given with her head\n",
      "With artificial vineyard . Beshrew him ,\n",
      "And not so cunning - doing thee ,\n",
      "To scarlet base vows .\n",
      "CLIFFORD :\n",
      "Then he will escape be better , like toys out of mind ,\n",
      "And back me with whom thy napkin usurping mouth\n",
      "To upstart venom up than my death ,\n",
      "Be with flames like , even in himself ,\n",
      "And give me from the impossibilities , ,\n",
      "To fear a innocent hap and faithful with a sin ,\n",
      "And spies them to her , sick , too .\n",
      "Thy steps gentle father\n"
     ]
    }
   ],
   "source": [
    "\n",
    "input = torch.tensor(0, dtype=torch.long, device=device)\n",
    "input = torch.unsqueeze(input, 0)\n",
    "print(''.join(decode(m.generate(tokens=input, max_len=200)[0].tolist())))"
   ]
  }
 ],
 "metadata": {
  "kernelspec": {
   "display_name": "dis",
   "language": "python",
   "name": "python3"
  },
  "language_info": {
   "codemirror_mode": {
    "name": "ipython",
    "version": 3
   },
   "file_extension": ".py",
   "mimetype": "text/x-python",
   "name": "python",
   "nbconvert_exporter": "python",
   "pygments_lexer": "ipython3",
   "version": "3.10.14"
  }
 },
 "nbformat": 4,
 "nbformat_minor": 2
}
